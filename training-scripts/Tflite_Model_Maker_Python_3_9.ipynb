{
 "cells": [
  {
   "cell_type": "code",
   "execution_count": null,
   "metadata": {
    "id": "ubhAiATjXk7a"
   },
   "outputs": [],
   "source": [
    "%env PYTHONPATH = # /env/python"
   ]
  },
  {
   "cell_type": "code",
   "execution_count": null,
   "metadata": {
    "id": "iwymZeUxYnEt"
   },
   "outputs": [],
   "source": [
    "# Download and install and update miniconda\n",
    "!wget https://repo.anaconda.com/miniconda/Miniconda3-py39_23.3.1-0-Linux-x86_64.sh\n",
    "!chmod +x Miniconda3-py39_23.3.1-0-Linux-x86_64.sh\n",
    "!./Miniconda3-py39_23.3.1-0-Linux-x86_64.sh -b -f -p /usr/local\n",
    "!conda update -q conda -y"
   ]
  },
  {
   "cell_type": "code",
   "execution_count": null,
   "metadata": {
    "id": "EWedsUfmYq1s"
   },
   "outputs": [],
   "source": [
    "import sys\n",
    "sys.path.append('/usr/local/lib/python3.9/site-packages')"
   ]
  },
  {
   "cell_type": "code",
   "execution_count": null,
   "metadata": {
    "id": "4R1a1OxjYtJp"
   },
   "outputs": [],
   "source": [
    "# Create conda environment with python 3.9\n",
    "!conda create -n myenv python=3.9 -y"
   ]
  },
  {
   "cell_type": "code",
   "execution_count": null,
   "metadata": {
    "id": "gGP3_XQLZQ3S"
   },
   "outputs": [],
   "source": [
    "# Download and Unzip Files\n",
    "!unzip -q training_images_resized.zip"
   ]
  },
  {
   "cell_type": "code",
   "execution_count": null,
   "metadata": {
    "id": "XjIuOnAYYyCm"
   },
   "outputs": [],
   "source": [
    "# Install dependencies in the new environment. You need to force acitvate conda everytime\n",
    "%%shell\n",
    "eval \"$(conda shell.bash hook)\"\n",
    "conda activate myenv\n",
    "pip install -q tflite-model-maker\n",
    "pip3 install -q pycocotools\n",
    "pip install -q ipykernel\n",
    "pip install -q numpy==1.23.2"
   ]
  },
  {
   "cell_type": "code",
   "execution_count": null,
   "metadata": {
    "id": "_kgUrn27byMe"
   },
   "outputs": [],
   "source": [
    "# Run your training and eval script as an external python script\n",
    "%%shell\n",
    "eval \"$(conda shell.bash hook)\"\n",
    "conda activate myenv\n",
    "python train.py"
   ]
  }
 ],
 "metadata": {
  "accelerator": "GPU",
  "colab": {
   "gpuType": "T4",
   "machine_shape": "hm",
   "provenance": []
  },
  "kernelspec": {
   "display_name": "Python 3",
   "name": "python3"
  },
  "language_info": {
   "name": "python"
  }
 },
 "nbformat": 4,
 "nbformat_minor": 0
}
